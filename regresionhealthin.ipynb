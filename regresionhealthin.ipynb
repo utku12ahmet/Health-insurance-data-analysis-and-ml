{
 "cells": [
  {
   "cell_type": "code",
   "execution_count": null,
   "metadata": {},
   "outputs": [],
   "source": [
    "import numpy as np\n",
    "import pandas as pd\n",
    "import matplotlib.pyplot as plt\n",
    "import seaborn as sns\n",
    "from sklearn.model_selection import train_test_split\n",
    "from sklearn import preprocessing,metrics\n",
    "plt.style.use('seaborn-v0_8')\n",
    "import warnings\n",
    "warnings.filterwarnings('ignore')\n",
    "pd.set_option('display.max_columns', None)"
   ]
  },
  {
   "cell_type": "markdown",
   "metadata": {},
   "source": [
    "SİMPLE DATA ANALYSİS"
   ]
  },
  {
   "cell_type": "code",
   "execution_count": null,
   "metadata": {},
   "outputs": [],
   "source": [
    "df=pd.read_csv(\"insurance.csv\")\n",
    "df.head()"
   ]
  },
  {
   "cell_type": "code",
   "execution_count": null,
   "metadata": {},
   "outputs": [],
   "source": [
    "print(df.describe())\n",
    "print(\"\\n\")\n",
    "print(df.describe)"
   ]
  },
  {
   "cell_type": "code",
   "execution_count": null,
   "metadata": {},
   "outputs": [],
   "source": [
    "df.isnull().any()\n"
   ]
  },
  {
   "cell_type": "code",
   "execution_count": null,
   "metadata": {},
   "outputs": [],
   "source": [
    "len(df)"
   ]
  },
  {
   "cell_type": "code",
   "execution_count": null,
   "metadata": {},
   "outputs": [],
   "source": [
    "df.info()"
   ]
  },
  {
   "cell_type": "code",
   "execution_count": null,
   "metadata": {},
   "outputs": [],
   "source": [
    "print((df==0).sum())"
   ]
  },
  {
   "cell_type": "markdown",
   "metadata": {},
   "source": [
    "ANALYSİS"
   ]
  },
  {
   "cell_type": "markdown",
   "metadata": {},
   "source": [
    "THE INFORMATION OF THE PERSON WHO SPENT THE MOST MONEY AND THE PERSON WHO SPENT THE LEAST MONEY."
   ]
  },
  {
   "cell_type": "code",
   "execution_count": null,
   "metadata": {},
   "outputs": [],
   "source": [
    "highest_charge_row = df.loc[df[\"charges\"].idxmax()].copy()\n",
    "highest_charge_row\n"
   ]
  },
  {
   "cell_type": "markdown",
   "metadata": {},
   "source": [
    "AS SEEN, THE PERSON WITH THE HIGHEST BILL IS A MIDDLE-AGED OR OLDER WOMAN, WITH NO CHILDREN, A SMOKER, AND A VERY HIGH BODY MASS INDEX (OVER 40, WHICH IS CONSIDERED OBESE)"
   ]
  },
  {
   "cell_type": "code",
   "execution_count": null,
   "metadata": {},
   "outputs": [],
   "source": [
    "lowest_charge_row = df.loc[df[\"charges\"].idxmin()].copy()\n",
    "lowest_charge_row\n"
   ]
  },
  {
   "cell_type": "markdown",
   "metadata": {},
   "source": [
    "THE PERSON WITH THE LOWEST BILL IS A YOUNG, CHILDLESS INDIVIDUAL WITH A LOW BODY MASS INDEX, A NON-SMOKER, YET STILL HAS A BILL OF $1000."
   ]
  },
  {
   "cell_type": "markdown",
   "metadata": {},
   "source": [
    "DIFFERENCE BETWEEN MEN AND WOMEN"
   ]
  },
  {
   "cell_type": "code",
   "execution_count": null,
   "metadata": {},
   "outputs": [],
   "source": [
    "gender_charge_avg = df.groupby(\"sex\")[\"charges\"].mean()\n",
    "gender_charge_total = df.groupby(\"sex\")[\"charges\"].sum()\n",
    "highest_charge_female = df[df[\"sex\"] == \"female\"][\"charges\"].max()  \n",
    "highest_charge_male = df[df[\"sex\"] == \"male\"][\"charges\"].max() \n",
    "\n",
    "print(\"Average spending\")\n",
    "print(gender_charge_avg)\n",
    "print(\"\\n\")\n",
    "print(\"Total spending\")\n",
    "print(gender_charge_total)\n",
    "print(\"\\n\")\n",
    "print(f\"Highest charge (Female): {highest_charge_female}\")\n",
    "print(f\"Highest charge (Male): {highest_charge_male}\")"
   ]
  },
  {
   "cell_type": "code",
   "execution_count": null,
   "metadata": {},
   "outputs": [],
   "source": [
    "plt.figure(figsize=(10, 6))\n",
    "sns.barplot(x=\"sex\", y=\"charges\", data=df, estimator=\"mean\", palette=\"Set1\")\n",
    "plt.xlabel(\"Gender\")\n",
    "plt.ylabel(\"Average Charges\")\n",
    "plt.title(\"Average Charges by Gender\")\n",
    "plt.xticks([0, 1], [\"Female\", \"Male\"])  # Labels instead of 0 and 1\n",
    "plt.show()"
   ]
  },
  {
   "cell_type": "code",
   "execution_count": null,
   "metadata": {},
   "outputs": [],
   "source": [
    "plt.figure(figsize=(10, 6))\n",
    "sns.histplot(df[df['sex'] == \"female\"]['charges'], color='blue', label='Female', kde=True, bins=30)\n",
    "sns.histplot(df[df['sex'] == \"male\"]['charges'], color='red', label='Male', kde=True, bins=30)\n",
    "plt.xlabel('Charges')\n",
    "plt.ylabel('Frequency')\n",
    "plt.title('Distribution of Charges by Gender')\n",
    "plt.legend()\n",
    "plt.show()"
   ]
  },
  {
   "cell_type": "code",
   "execution_count": null,
   "metadata": {},
   "outputs": [],
   "source": [
    "g = sns.FacetGrid(df, col=\"sex\", height=5, aspect=1)\n",
    "g.map(sns.histplot, \"charges\", kde=True, bins=30)\n",
    "g.set_axis_labels(\"Charges\", \"Frequency\")\n",
    "g.set_titles(\"Gender: {col_name}\")\n",
    "plt.show()"
   ]
  },
  {
   "cell_type": "code",
   "execution_count": null,
   "metadata": {},
   "outputs": [],
   "source": [
    "plt.figure(figsize=(10, 6))\n",
    "sns.kdeplot(df[df['sex'] == \"female\"]['charges'], label='Female', shade=True, color='blue')\n",
    "sns.kdeplot(df[df['sex'] == \"male\"]['charges'], label='Male', shade=True, color='red')\n",
    "plt.xlabel('Charges')\n",
    "plt.ylabel('Density')\n",
    "plt.title('Charge Density by Gender (Density Plot)')\n",
    "plt.legend()\n",
    "plt.show()"
   ]
  },
  {
   "cell_type": "markdown",
   "metadata": {},
   "source": [
    "as we can see in the graphics females spend less money to health than males"
   ]
  },
  {
   "cell_type": "code",
   "execution_count": null,
   "metadata": {},
   "outputs": [],
   "source": [
    "smoker_gender_count=df.groupby([\"sex\",\"smoker\"]).size().unstack()\n",
    "gender_smoker_rate=df.groupby(\"sex\")[\"smoker\"].value_counts(normalize=True).unstack()\n",
    "\n",
    "print(smoker_gender_count)\n",
    "print(\"\\n\")\n",
    "print(gender_smoker_rate)"
   ]
  },
  {
   "cell_type": "code",
   "execution_count": null,
   "metadata": {},
   "outputs": [],
   "source": [
    "plt.figure(figsize=(10, 6))\n",
    "sns.countplot(x=\"sex\", hue=\"smoker\", data=df, palette=\"Set2\")\n",
    "plt.xlabel(\"Gender\")\n",
    "plt.ylabel(\"Frequency\")\n",
    "plt.title(\"Smoking Status by Gender\")\n",
    "plt.xticks([0, 1], [\"Female\", \"Male\"])  # Replace 0 and 1 with labels\n",
    "plt.legend(title=\"Smoking Status\", labels=[\"Non-Smoker\", \"Smoker\"])\n",
    "plt.show()"
   ]
  },
  {
   "cell_type": "code",
   "execution_count": null,
   "metadata": {},
   "outputs": [],
   "source": [
    "smoker_gender_count = df.groupby(['sex', 'smoker']).size().unstack()\n",
    "\n",
    "# Pie chart for females\n",
    "smoker_gender_count.loc[\"female\"].plot.pie(autopct='%1.1f%%', labels=[\"Non-Smoker\", \"Smoker\"], figsize=(8, 8), title=\"Females\")\n",
    "plt.show()\n",
    "\n",
    "# Pie chart for males\n",
    "smoker_gender_count.loc[\"male\"].plot.pie(autopct='%1.1f%%', labels=[\"Non-Smoker\", \"Smoker\"], figsize=(8, 8), title=\"Males\")\n",
    "plt.show()"
   ]
  },
  {
   "cell_type": "code",
   "execution_count": null,
   "metadata": {},
   "outputs": [],
   "source": [
    "g = sns.FacetGrid(df, col=\"sex\", hue=\"smoker\", height=5, aspect=1.5, palette=\"Set2\")\n",
    "g.map(sns.histplot, \"charges\", kde=True)\n",
    "g.set_axis_labels(\"Charges\", \"Frequency\")\n",
    "g.set_titles(\"Gender: {col_name}\")\n",
    "g.add_legend(title=\"Smoking Status\")\n",
    "plt.show()"
   ]
  },
  {
   "cell_type": "code",
   "execution_count": null,
   "metadata": {},
   "outputs": [],
   "source": [
    "plt.figure(figsize=(12, 8))\n",
    "sns.barplot(x=\"sex\", y=\"charges\", hue=\"smoker\", data=df, palette=\"Set2\", estimator=\"mean\")\n",
    "plt.xlabel(\"Gender\")\n",
    "plt.ylabel(\"Average Charges\")\n",
    "plt.title(\"Effect of Gender and Smoking Status on Charges (Bar Plot)\")\n",
    "plt.xticks([0, 1], [\"Female\", \"Male\"])  # Replace 0 and 1 with labels\n",
    "plt.legend(title=\"Smoking Status\", labels=[\"Non-Smoker\", \"Smoker\"])\n",
    "plt.show()"
   ]
  },
  {
   "cell_type": "markdown",
   "metadata": {},
   "source": [
    "charges by age and sex"
   ]
  },
  {
   "cell_type": "code",
   "execution_count": null,
   "metadata": {},
   "outputs": [],
   "source": [
    "avg_charges_for_young_women = df[(df[\"sex\"] == \"female\") & (df[\"age\"] < 30)][\"charges\"].mean()\n",
    "\n",
    "avg_charges_for_young_men = df[(df[\"sex\"] == \"male\") & (df[\"age\"] < 30)][\"charges\"].mean()\n",
    "\n",
    "avg_charges_for_old_women = df[(df[\"sex\"] == \"female\") & (df[\"age\"] > 30)][\"charges\"].mean()\n",
    "\n",
    "avg_charges_for_old_men = df[(df[\"sex\"] == \"male\") & (df[\"age\"] > 30)][\"charges\"].mean()\n",
    "\n",
    "print(f\"Average charges for women under 30: {avg_charges_for_young_women:.2f}\")\n",
    "print(f\"Average charges for men under 30: {avg_charges_for_young_men:.2f}\")\n",
    "print(f\"Average charges for women over 30: {avg_charges_for_old_women:.2f}\")\n",
    "print(f\"Average charges for men over 30: {avg_charges_for_old_men:.2f}\")"
   ]
  },
  {
   "cell_type": "markdown",
   "metadata": {},
   "source": [
    "bmi with age"
   ]
  },
  {
   "cell_type": "code",
   "execution_count": null,
   "metadata": {},
   "outputs": [],
   "source": [
    "avg_bmi_gender = df.groupby(\"sex\")[\"bmi\"].mean()\n",
    "highest_bmi_male = df[df[\"sex\"] == \"male\"][\"bmi\"].max()\n",
    "highest_bmi_female = df[df[\"sex\"] == \"female\"][\"bmi\"].max()\n",
    "\n",
    "print(avg_bmi_gender)\n",
    "print(\"\\n\")\n",
    "print(f\"Highest BMI for women: {highest_bmi_female}\")\n",
    "print(f\"Highest BMI for men: {highest_bmi_male}\")"
   ]
  },
  {
   "cell_type": "code",
   "execution_count": null,
   "metadata": {},
   "outputs": [],
   "source": [
    "plt.figure(figsize=(10, 6))\n",
    "sns.barplot(x=\"sex\", y=\"bmi\", data=df, estimator=\"mean\", palette=\"Set1\")\n",
    "plt.xlabel(\"Gender\")\n",
    "plt.ylabel(\"Average BMI\")\n",
    "plt.title(\"Average BMI by Gender\")\n",
    "plt.xticks([0, 1], [\"Female\", \"Male\"])  # Replace 0 and 1 with labels\n",
    "plt.show()"
   ]
  },
  {
   "cell_type": "code",
   "execution_count": null,
   "metadata": {},
   "outputs": [],
   "source": [
    "plt.figure(figsize=(10, 6))\n",
    "sns.histplot(df[df['sex'] == \"female\"]['bmi'], color='blue', label='Female', kde=True, bins=30)\n",
    "sns.histplot(df[df['sex'] == \"male\"]['bmi'], color='red', label='Male', kde=True, bins=30)\n",
    "plt.xlabel('BMI')\n",
    "plt.ylabel('Frequency')\n",
    "plt.title('BMI Distribution by Gender')\n",
    "plt.legend()\n",
    "plt.show()"
   ]
  },
  {
   "cell_type": "markdown",
   "metadata": {},
   "source": [
    "SMOKER AND NON SMOKER COMPARISON"
   ]
  },
  {
   "cell_type": "code",
   "execution_count": null,
   "metadata": {},
   "outputs": [],
   "source": [
    "smoker_charge_avg = df.groupby(\"smoker\")[\"charges\"].mean()\n",
    "smoker_charge_total = df.groupby(\"smoker\")[\"charges\"].sum()\n",
    "\n",
    "print(\"Average Spending\")\n",
    "print(smoker_charge_avg)\n",
    "print(\"\\n\")\n",
    "print(\"Total Spending\")\n",
    "print(smoker_charge_total)\n"
   ]
  },
  {
   "cell_type": "code",
   "execution_count": null,
   "metadata": {},
   "outputs": [],
   "source": [
    "plt.figure(figsize=(10, 6))\n",
    "sns.barplot(x=\"smoker\", y=\"charges\", data=df, estimator=\"mean\", palette=\"Set1\")\n",
    "plt.xlabel(\"Smoker\")\n",
    "plt.ylabel(\"Average Charges\")\n",
    "plt.title(\"Average Charges by Smoking Status\")\n",
    "plt.xticks([0, 1], [\"Smoker\", \"Non-Smoker\"])\n",
    "plt.show()"
   ]
  },
  {
   "cell_type": "code",
   "execution_count": null,
   "metadata": {},
   "outputs": [],
   "source": [
    "plt.figure(figsize=(10, 6))\n",
    "sns.histplot(df[df['smoker'] == \"yes\"]['charges'], color='blue', label='Smoker', kde=True, bins=30)\n",
    "sns.histplot(df[df['smoker'] == \"no\"]['charges'], color='red', label='Non-Smoker', kde=True, bins=30)\n",
    "plt.xlabel('Charges')\n",
    "plt.ylabel('Frequency')\n",
    "plt.title('Distribution of Charges by Smoking Status')\n",
    "plt.legend()\n",
    "plt.show()"
   ]
  },
  {
   "cell_type": "code",
   "execution_count": null,
   "metadata": {},
   "outputs": [],
   "source": [
    "smoker_age_avg=df.groupby(\"smoker\")[\"age\"].mean()\n",
    "smoker_age_avg"
   ]
  },
  {
   "cell_type": "code",
   "execution_count": null,
   "metadata": {},
   "outputs": [],
   "source": [
    "age_smoker_count=df.groupby([\"age\",\"smoker\"]).size().unstack(fill_value=0)\n",
    "age_smoker_count"
   ]
  },
  {
   "cell_type": "code",
   "execution_count": null,
   "metadata": {},
   "outputs": [],
   "source": [
    "age_smoker_count = df.groupby([\"age\", \"smoker\"]).size().unstack(fill_value=0)\n",
    "\n",
    "plt.figure(figsize=(12, 6))\n",
    "age_smoker_count.plot(kind='bar', stacked=True, color=['lightcoral', 'lightgreen'])\n",
    "\n",
    "plt.title('Number of Smokers and Non-Smokers by Age', fontsize=16)\n",
    "plt.xlabel('Age', fontsize=12)\n",
    "plt.ylabel('Number of People', fontsize=12)\n",
    "plt.xticks(rotation=45, ha='right')\n",
    "plt.legend(title='Smoking Status', labels=['Non-Smoker', 'Smoker'])\n",
    "\n",
    "plt.tight_layout()\n",
    "plt.show()"
   ]
  },
  {
   "cell_type": "code",
   "execution_count": null,
   "metadata": {},
   "outputs": [],
   "source": [
    "smoker_bmi_avg=df.groupby(\"smoker\")[\"bmi\"].mean()\n",
    "smoker_bmi_avg"
   ]
  },
  {
   "cell_type": "code",
   "execution_count": null,
   "metadata": {},
   "outputs": [],
   "source": [
    "smoker_bmi_avg = df.groupby(\"smoker\")[\"bmi\"].mean()\n",
    "smoker_bmi_avg\n",
    "\n",
    "plt.figure(figsize=(8, 6))\n",
    "sns.barplot(x=smoker_bmi_avg.index, y=smoker_bmi_avg.values, palette=\"Set1\")\n",
    "\n",
    "plt.title('Average BMI of Smokers and Non-Smokers', fontsize=16)\n",
    "plt.xlabel('Smoking Status', fontsize=12)\n",
    "plt.ylabel('Average BMI', fontsize=12)\n",
    "plt.xticks(rotation=0)\n",
    "\n",
    "plt.tight_layout()\n",
    "plt.show()"
   ]
  },
  {
   "cell_type": "markdown",
   "metadata": {},
   "source": [
    "BMİ ANALYSİS"
   ]
  },
  {
   "cell_type": "code",
   "execution_count": null,
   "metadata": {},
   "outputs": [],
   "source": [
    "bmi_bins = [0.0, 15.9, 25.9, 30.9, 40.9, float(\"inf\")]\n",
    "bmi_labels = ['Underweight', 'Normal weight', 'Overweight', 'Obese', 'Morbidly Obese'] \n",
    "df[\"bmi_cat\"] = pd.cut(df[\"bmi\"], bins=bmi_bins, labels=bmi_labels, right=False)\n",
    "\n",
    "bmi_counts = df[\"bmi_cat\"].value_counts()\n",
    "print(bmi_counts)\n",
    "print(\"\\n\")\n",
    "\n",
    "avg_charges_bmi = df.groupby(\"bmi_cat\")[\"charges\"].mean()\n",
    "print(avg_charges_bmi)\n",
    "print(\"\\n\")\n",
    "\n",
    "plt.figure(figsize=(10, 6))\n",
    "sns.barplot(x=bmi_counts.index, y=bmi_counts.values, palette=\"Set1\")\n",
    "plt.xlabel(\"BMI Category\")\n",
    "plt.ylabel(\"Number of People\")\n",
    "plt.title(\"Number of People in Each BMI Category\")\n",
    "plt.xticks(rotation=45)\n",
    "plt.show()\n",
    "\n",
    "print(\"\\n\")\n",
    "plt.figure(figsize=(8, 8))\n",
    "plt.pie(bmi_counts, labels=bmi_counts.index, autopct='%1.1f%%', startangle=90, colors=sns.color_palette(\"Set1\", len(bmi_counts)))\n",
    "plt.title(\"Distribution of People in Each BMI Category\")\n",
    "plt.axis('equal') \n",
    "plt.show()\n",
    "\n",
    "print(\"\\n\")\n",
    "\n",
    "plt.figure(figsize=(10, 6))\n",
    "sns.barplot(x=avg_charges_bmi.index, y=avg_charges_bmi.values, palette=\"Set1\")\n",
    "\n",
    "plt.title('Average Charges for Each BMI Category', fontsize=16)\n",
    "plt.xlabel('BMI Category', fontsize=12)\n",
    "plt.ylabel('Average Charges', fontsize=12)\n",
    "plt.xticks(rotation=45)\n",
    "\n",
    "plt.tight_layout()\n",
    "plt.show()\n"
   ]
  },
  {
   "cell_type": "code",
   "execution_count": null,
   "metadata": {},
   "outputs": [],
   "source": [
    "bmi_bins = [0.0, 15.9, 25.9, 30.9, 40.9, float(\"inf\")]\n",
    "bmi_labels = ['Underweight', 'Normal weight', 'Overweight', 'Obese',\"morbid obese\"] \n",
    "df[\"bmi_cat\"]=pd.cut(df[\"bmi\"],bins=bmi_bins,labels=bmi_labels,right=False)\n",
    "age_by_bmi=df.groupby(\"bmi_cat\")[\"age\"].mean()\n",
    "print(age_by_bmi)\n"
   ]
  },
  {
   "cell_type": "code",
   "execution_count": null,
   "metadata": {},
   "outputs": [],
   "source": [
    "age_bins = [0, 20, 30, 40, 50, 60, 70, float(\"inf\")]\n",
    "age_labels = [\"0-19\", \"20-29\", \"30-39\", \"40-49\", \"50-59\", \"60-69\", \"70+\"]\n",
    "bmi_labels = ['Underweight', 'Normal weight', 'Overweight', 'Obese',\"morbid obese\"] \n",
    "df[\"age_group\"] = pd.cut(df[\"age\"], bins=age_bins, labels=age_labels, right=False)\n",
    "for i in bmi_labels:\n",
    "    obese_age_groups = df[df[\"bmi_cat\"] ==i][\"age_group\"].value_counts()\n",
    "\n",
    "    obese_age_groups.sort_index().plot(kind=\"bar\", color=\"orange\", edgecolor=\"black\")\n",
    "    plt.xlabel(\"Age Group\")\n",
    "    plt.ylabel(\"Number of \"+ i +\"People\")\n",
    "    plt.title(\"Number of \"+i+ \" People by Age Group\")\n",
    "    plt.show()"
   ]
  },
  {
   "cell_type": "code",
   "execution_count": null,
   "metadata": {},
   "outputs": [],
   "source": [
    "children_charge_avg=df.groupby(\"children\")[\"charges\"].mean()\n",
    "children_charge_total=df.groupby(\"children\")[\"charges\"].sum()\n",
    "print(children_charge_avg)\n",
    "print(\"\\n\")\n",
    "print(children_charge_total)"
   ]
  },
  {
   "cell_type": "markdown",
   "metadata": {},
   "source": [
    "An increase in the number of children did not positively affect the charges. This raises the question of whether the data only represents charges per person or if a person's children's health charges are included in the total. We can look into that."
   ]
  },
  {
   "cell_type": "code",
   "execution_count": null,
   "metadata": {},
   "outputs": [],
   "source": [
    "age_bins = [0, 20, 30, 40, 50, 60, 70, float(\"inf\")]\n",
    "age_labels = [\"0-19\", \"20-29\", \"30-39\", \"40-49\", \"50-59\", \"60-69\", \"70+\"]\n",
    "df[\"age_group\"] = pd.cut(df[\"age\"], bins=age_bins, labels=age_labels, right=False)\n",
    "\n",
    "sns.boxplot(x=\"children\", y=\"charges\", hue=\"smoker\", data=df, palette=\"Set2\")\n",
    "plt.title(\"Number of Children, Smoking Status, and Healthcare Expenses\")\n",
    "plt.show()\n",
    "\n",
    "print(\"\\n\")\n",
    "\n",
    "sns.barplot(x=\"children\", y=\"charges\", hue=\"age_group\", data=df, palette=\"Set1\")\n",
    "plt.title(\"Expenses by Age Groups and Number of Children\")\n",
    "plt.show()"
   ]
  },
  {
   "cell_type": "code",
   "execution_count": null,
   "metadata": {},
   "outputs": [],
   "source": [
    "import statsmodels.formula.api as smf\n",
    "\n",
    "model = smf.ols(\"charges ~ children + age + bmi + smoker\", data=df).fit()\n",
    "print(model.summary())"
   ]
  },
  {
   "cell_type": "code",
   "execution_count": null,
   "metadata": {},
   "outputs": [],
   "source": [
    "plt.figure(figsize=(10, 6))\n",
    "sns.barplot(x=\"children\", y=\"charges\", data=df, estimator=\"mean\", palette=\"viridis\")\n",
    "plt.xlabel(\"Number of Children\")\n",
    "plt.ylabel(\"Average Charges\")\n",
    "plt.title(\"Average Charges by Number of Children\")\n",
    "plt.show()"
   ]
  },
  {
   "cell_type": "markdown",
   "metadata": {},
   "source": [
    "REGİON ANALYSİS"
   ]
  },
  {
   "cell_type": "code",
   "execution_count": null,
   "metadata": {},
   "outputs": [],
   "source": [
    "columns_to_calculate = [\"age\", \"charges\", \"children\", \"bmi\"]\n",
    "region_stats = df.groupby(\"region\")[columns_to_calculate].mean()\n",
    "region_stats"
   ]
  },
  {
   "cell_type": "code",
   "execution_count": null,
   "metadata": {},
   "outputs": [],
   "source": [
    "columns_to_calculate = [\"age\", \"charges\", \"children\", \"bmi\"]\n",
    "titles = [\"Average Age\", \"Average Charges\", \"Average Number of Children\", \"Average BMI\"]\n",
    "colors = [\"Blues\", \"Greens\", \"Oranges\", \"Purples\"]\n",
    "\n",
    "region_stats = df.groupby(\"region\")[columns_to_calculate].mean()\n",
    "\n",
    "plt.figure(figsize=(20, 12))\n",
    "\n",
    "for i, col in enumerate(columns_to_calculate):\n",
    "    plt.subplot(2, 2, i + 1)  \n",
    "    sns.barplot(x=region_stats.index, y=region_stats[col], palette=colors[i])\n",
    "    plt.title(titles[i], fontsize=16)\n",
    "    plt.xlabel(\"Region\", fontsize=14)\n",
    "    plt.ylabel(titles[i], fontsize=14)\n",
    "\n",
    "plt.tight_layout()\n",
    "plt.show()\n"
   ]
  },
  {
   "cell_type": "code",
   "execution_count": null,
   "metadata": {},
   "outputs": [],
   "source": [
    "smoker_region_count = df.groupby(\"region\")[\"smoker\"].value_counts()\n",
    "smoker_region_count"
   ]
  },
  {
   "cell_type": "code",
   "execution_count": null,
   "metadata": {},
   "outputs": [],
   "source": [
    "#df = df.drop(['age_group'], axis=1)\n",
    "df=df.drop([\"bmi_cat\"],axis=1)\n",
    "df.head()"
   ]
  },
  {
   "cell_type": "markdown",
   "metadata": {},
   "source": [
    "LABEL ENCODİNG"
   ]
  },
  {
   "cell_type": "code",
   "execution_count": null,
   "metadata": {},
   "outputs": [],
   "source": [
    "print(df[\"region\"].unique())\n",
    "print(df[\"sex\"].unique())\n",
    "print(df[\"smoker\"].unique())"
   ]
  },
  {
   "cell_type": "code",
   "execution_count": null,
   "metadata": {},
   "outputs": [],
   "source": [
    "from sklearn.preprocessing import LabelEncoder\n",
    "\n",
    "#sex\n",
    "le=LabelEncoder()\n",
    "le.fit(df.sex.drop_duplicates())\n",
    "df.sex=le.transform(df.sex)\n",
    "\n",
    "#region\n",
    "le.fit(df.region.drop_duplicates())\n",
    "df.region=le.transform(df.region)\n",
    "\n",
    "#smoker\n",
    "le.fit(df.smoker.drop_duplicates())\n",
    "df.smoker=le.transform(df.smoker) \n"
   ]
  },
  {
   "cell_type": "code",
   "execution_count": null,
   "metadata": {},
   "outputs": [],
   "source": [
    "print(df[\"region\"].unique())\n",
    "print(df[\"sex\"].unique())\n",
    "print(df[\"smoker\"].unique())"
   ]
  },
  {
   "cell_type": "markdown",
   "metadata": {},
   "source": [
    "CORRELATION"
   ]
  },
  {
   "cell_type": "code",
   "execution_count": null,
   "metadata": {},
   "outputs": [],
   "source": [
    "df.corr()['charges'].sort_values()"
   ]
  },
  {
   "cell_type": "code",
   "execution_count": null,
   "metadata": {},
   "outputs": [],
   "source": [
    "correlation_matrix = df.corr()\n",
    "\n",
    "plt.figure(figsize=(10, 8)) \n",
    "sns.heatmap(correlation_matrix, annot=True, fmt=\".2f\", cmap=\"coolwarm\", cbar=True, square=True)\n",
    "\n",
    "plt.title(\"Correlation Heatmap Between All Columns\", fontsize=16)\n",
    "plt.xticks(rotation=45, fontsize=12)\n",
    "plt.yticks(fontsize=12)\n",
    "\n",
    "plt.tight_layout()\n",
    "plt.show()"
   ]
  },
  {
   "cell_type": "code",
   "execution_count": null,
   "metadata": {},
   "outputs": [],
   "source": [
    "sns.pairplot(df, hue=\"charges\", diag_kind=\"kde\", palette=\"coolwarm\")"
   ]
  },
  {
   "cell_type": "markdown",
   "metadata": {},
   "source": [
    "MACHİNE LEARNİNG PART"
   ]
  },
  {
   "cell_type": "code",
   "execution_count": null,
   "metadata": {},
   "outputs": [],
   "source": [
    "from sklearn.linear_model import LinearRegression\n",
    "from sklearn.model_selection import train_test_split\n",
    "from sklearn.preprocessing import PolynomialFeatures\n",
    "from sklearn.metrics import r2_score,mean_squared_error\n"
   ]
  },
  {
   "cell_type": "code",
   "execution_count": null,
   "metadata": {},
   "outputs": [],
   "source": [
    "best_score = 0\n",
    "best_state = None\n",
    "\n",
    "x=df.drop([\"charges\"],axis=1)\n",
    "y=df.charges\n",
    "\n",
    "for state in range(100): \n",
    "    X_train, X_test, y_train, y_test = train_test_split(x, y, random_state=state, test_size=0.2)\n",
    "    model = LinearRegression()\n",
    "    model.fit(X_train, y_train)\n",
    "    score = model.score(X_test, y_test)\n",
    "    if score > best_score:\n",
    "        best_score = score\n",
    "        best_state = state\n",
    "\n",
    "print(f\"Best random_state: {best_state}, Best Score: {best_score}\")"
   ]
  },
  {
   "cell_type": "code",
   "execution_count": null,
   "metadata": {},
   "outputs": [],
   "source": [
    "x=df.drop([\"charges\"],axis=1)\n",
    "y=df.charges\n",
    "\n",
    "x_train,x_test,y_train,y_test = train_test_split(x,y, random_state = 0)\n",
    "lr=LinearRegression()\n",
    "lr.fit(x_train,y_train)\n",
    "\n",
    "y_train_pred = lr.predict(x_train)\n",
    "y_test_pred = lr.predict(x_test)\n",
    "\n",
    "print(lr.score(x_test,y_test))"
   ]
  },
  {
   "cell_type": "code",
   "execution_count": null,
   "metadata": {},
   "outputs": [],
   "source": [
    "X = df.drop(['charges','region'], axis = 1)\n",
    "Y = df.charges\n",
    "\n",
    "\n",
    "\n",
    "quad = PolynomialFeatures (degree = 2)\n",
    "x_quad = quad.fit_transform(X)\n",
    "\n",
    "X_train,X_test,Y_train,Y_test = train_test_split(x_quad,Y, random_state = 0)\n",
    "\n",
    "plr = LinearRegression().fit(X_train,Y_train)\n",
    "\n",
    "Y_train_pred = plr.predict(X_train)\n",
    "Y_test_pred = plr.predict(X_test)\n",
    "\n",
    "print(plr.score(X_test,Y_test))"
   ]
  },
  {
   "cell_type": "code",
   "execution_count": null,
   "metadata": {},
   "outputs": [],
   "source": [
    "from sklearn.neighbors import KNeighborsRegressor\n",
    "from sklearn.model_selection import train_test_split\n",
    "from sklearn.metrics import mean_squared_error\n",
    "import numpy as np\n",
    "\n",
    "x = df.drop(\"charges\", axis=1)  \n",
    "y = df[\"charges\"] \n",
    "\n",
    "X_train, X_test, y_train, y_test = train_test_split(X, y, test_size=0.2, random_state=42)\n",
    "\n",
    "\n",
    "knn = KNeighborsRegressor(n_neighbors=5)\n",
    "\n",
    "\n",
    "knn.fit(X_train, y_train)\n",
    "\n",
    "y_pred = knn.predict(X_test)\n",
    "\n",
    "\n",
    "mse = mean_squared_error(y_test, y_pred)\n",
    "print(f\"Mean Squared Error: {mse}\")\n",
    "\n",
    "\n",
    "r2 = knn.score(X_test, y_test)\n",
    "print(f\"R^2 Score: {r2}\")"
   ]
  },
  {
   "cell_type": "code",
   "execution_count": null,
   "metadata": {},
   "outputs": [],
   "source": [
    "plt.figure(figsize=(10,6))\n",
    "plt.scatter(Y_test, Y_test_pred, color='blue', label='Predicted')\n",
    "plt.plot([min(Y_test), max(Y_test)], [min(Y_test), max(Y_test)], color='red', linestyle='--', label='Perfect Predictions')\n",
    "plt.xlabel('Actual Values')\n",
    "plt.ylabel('Predicted Values')\n",
    "plt.title('Actual vs. Predicted Values')\n",
    "plt.legend()\n",
    "plt.show()"
   ]
  },
  {
   "cell_type": "code",
   "execution_count": null,
   "metadata": {},
   "outputs": [],
   "source": [
    "residuals = Y_test - Y_test_pred\n",
    "\n",
    "plt.figure(figsize=(10,6))\n",
    "plt.scatter(Y_test_pred, residuals, color='blue', label='Residuals')\n",
    "plt.hlines(y=0, xmin=min(Y_test_pred), xmax=max(Y_test_pred), colors='red', linestyles='--')\n",
    "plt.xlabel('Predicted Values')\n",
    "plt.ylabel('Residuals')\n",
    "plt.title('Residuals Plot')\n",
    "plt.legend()\n",
    "plt.show()"
   ]
  },
  {
   "cell_type": "code",
   "execution_count": null,
   "metadata": {},
   "outputs": [],
   "source": [
    "scores = []\n",
    "for i in range(1, 10):\n",
    "    quad = PolynomialFeatures(degree=i)\n",
    "    x_quad = quad.fit_transform(X)\n",
    "    X_train, X_test, Y_train, Y_test = train_test_split(x_quad, Y, random_state=0)\n",
    "    plr = LinearRegression().fit(X_train, Y_train)\n",
    "    score = plr.score(X_test, Y_test)\n",
    "    scores.append(score)\n",
    "\n",
    "plt.figure(figsize=(10,6))\n",
    "plt.plot(range(1, 10), scores, marker='o', linestyle='-', color='b')\n",
    "plt.xlabel('Polynomial Degree')\n",
    "plt.ylabel('R² Score')\n",
    "plt.title('R² Score for Different Polynomial Degrees')\n",
    "plt.grid(True)\n",
    "plt.show()"
   ]
  },
  {
   "cell_type": "code",
   "execution_count": null,
   "metadata": {},
   "outputs": [],
   "source": [
    "plt.figure(figsize=(10,6))\n",
    "plt.scatter(X['bmi'], Y, color='blue', label='Actual Values')\n",
    "plt.plot(X['bmi'], plr.predict(quad.fit_transform(X)), color='red', label='Polynomial Model')\n",
    "plt.xlabel('BMI')\n",
    "plt.ylabel('Charges')\n",
    "plt.title('Actual vs. Predicted Values with Polynomial Regression Model')\n",
    "plt.legend()\n",
    "plt.show()"
   ]
  },
  {
   "cell_type": "code",
   "execution_count": null,
   "metadata": {},
   "outputs": [],
   "source": [
    "from sklearn.model_selection import learning_curve\n",
    "\n",
    "\n",
    "train_sizes, train_scores, test_scores = learning_curve(plr, X, Y, cv=5)\n",
    "\n",
    "\n",
    "train_mean = train_scores.mean(axis=1)\n",
    "test_mean = test_scores.mean(axis=1)\n",
    "\n",
    "\n",
    "plt.plot(train_sizes, train_mean, label=\"Training Score\", color='blue')\n",
    "plt.plot(train_sizes, test_mean, label=\"Test Score\", color='red')\n",
    "plt.xlabel(\"Training Data Size\")\n",
    "plt.ylabel(\"R² Score\")\n",
    "plt.title(\"Learning Curve\")\n",
    "plt.legend()\n",
    "plt.show()"
   ]
  },
  {
   "cell_type": "code",
   "execution_count": null,
   "metadata": {},
   "outputs": [],
   "source": [
    "\n",
    "from sklearn.model_selection import train_test_split\n",
    "from sklearn.linear_model import LinearRegression\n",
    "from sklearn.metrics import mean_squared_error\n",
    "\n",
    "\n",
    "X = df.drop(['charges', 'region'], axis=1)  \n",
    "Y = df['charges']  \n",
    "\n",
    "\n",
    "X_train, X_test, Y_train, Y_test = train_test_split(X, Y, test_size=0.2, random_state=42)\n",
    "\n",
    "\n",
    "model = LinearRegression()\n",
    "\n",
    "\n",
    "model.fit(X_train, Y_train)\n",
    "\n",
    "\n",
    "Y_train_pred = model.predict(X_train)\n",
    "Y_test_pred = model.predict(X_test)\n",
    "\n",
    "\n",
    "train_score = model.score(X_train, Y_train)\n",
    "test_score = model.score(X_test, Y_test)\n",
    "\n",
    "train_mse = mean_squared_error(Y_train, Y_train_pred)\n",
    "test_mse = mean_squared_error(Y_test, Y_test_pred)\n",
    "\n",
    "\n",
    "print(f\"Training Set R² Score: {train_score}\")\n",
    "print(f\"Test Set R² Score: {test_score}\")\n",
    "print(f\"Training Set MSE: {train_mse}\")\n",
    "print(f\"Test Set MSE: {test_mse}\")\n",
    "\n",
    "if train_score - test_score > 0.1:\n",
    "    print(\"The model is overfitting!\")\n",
    "elif train_mse < test_mse:\n",
    "    print(\"The model is overfitting!\")\n",
    "else:\n",
    "    print(\"The model is well generalized.\")"
   ]
  },
  {
   "cell_type": "code",
   "execution_count": null,
   "metadata": {},
   "outputs": [],
   "source": [
    "from sklearn.linear_model import Ridge\n",
    "X=df.drop([\"charges\",\"region\"],axis=1)\n",
    "y=df[\"charges\"]\n",
    "\n",
    "X_train, X_test, y_train, y_test = train_test_split(X, y, test_size=0.2, random_state=0)\n",
    "\n",
    "ridge=Ridge(alpha=0.1)\n",
    "ridge.fit(X_train,y_train)\n",
    "\n",
    "y_pred=ridge.predict(X_test)\n",
    "\n",
    "print(\"R2 Score:\", ridge.score(X_test, y_test))\n",
    "print(\"MSE:\", mean_squared_error(y_test, y_pred))\n"
   ]
  },
  {
   "cell_type": "code",
   "execution_count": null,
   "metadata": {},
   "outputs": [],
   "source": []
  }
 ],
 "metadata": {
  "kernelspec": {
   "display_name": "Python 3",
   "language": "python",
   "name": "python3"
  },
  "language_info": {
   "codemirror_mode": {
    "name": "ipython",
    "version": 3
   },
   "file_extension": ".py",
   "mimetype": "text/x-python",
   "name": "python",
   "nbconvert_exporter": "python",
   "pygments_lexer": "ipython3",
   "version": "3.12.2"
  }
 },
 "nbformat": 4,
 "nbformat_minor": 2
}
